{
  "nbformat": 4,
  "nbformat_minor": 0,
  "metadata": {
    "colab": {
      "name": "week01_assignments.ipynb",
      "provenance": [],
      "authorship_tag": "ABX9TyPvDv3eqGLxzwJS6dNFpmvk",
      "include_colab_link": true
    },
    "kernelspec": {
      "name": "python3",
      "display_name": "Python 3"
    },
    "language_info": {
      "name": "python"
    }
  },
  "cells": [
    {
      "cell_type": "markdown",
      "metadata": {
        "id": "view-in-github",
        "colab_type": "text"
      },
      "source": [
        "<a href=\"https://colab.research.google.com/github/artitaksal/bootcamp/blob/main/week01_assignments.ipynb\" target=\"_parent\"><img src=\"https://colab.research.google.com/assets/colab-badge.svg\" alt=\"Open In Colab\"/></a>"
      ]
    },
    {
      "cell_type": "markdown",
      "source": [
        "Say \"Hello, World!\" With Python"
      ],
      "metadata": {
        "id": "hxYcRHXgVV5g"
      }
    },
    {
      "cell_type": "code",
      "source": [
        "print(\"Hello, World!\")"
      ],
      "metadata": {
        "id": "PIrTrajCVr47"
      },
      "execution_count": null,
      "outputs": []
    },
    {
      "cell_type": "markdown",
      "source": [
        "Find a string"
      ],
      "metadata": {
        "id": "BBqc_vCeV2dG"
      }
    },
    {
      "cell_type": "code",
      "source": [
        "def count_substring(string, sub_string):\n",
        "    count=0\n",
        "    for i in range(len(string)-len(sub_string)+1):\n",
        "        if(string[i:i+len(sub_string)]==sub_string):\n",
        "            count +=1\n",
        "    return count"
      ],
      "metadata": {
        "id": "xgcZNfDoWA3o"
      },
      "execution_count": null,
      "outputs": []
    },
    {
      "cell_type": "markdown",
      "source": [
        "Find the Runner-Up Score!\n",
        "\n",
        "if __name__ == '__main__':\n",
        "    n = int(raw_input())\n",
        "    arr = map(int, raw_input().split())\n",
        "    print(sorted(list(set(arr)))[-2])"
      ],
      "metadata": {
        "id": "iTN_m7UBWHrr"
      }
    },
    {
      "cell_type": "markdown",
      "source": [
        "Lists"
      ],
      "metadata": {
        "id": "adzM4zDDWbVF"
      }
    },
    {
      "cell_type": "code",
      "source": [
        "if __name__ == '__main__':\n",
        "    N = int(raw_input())\n",
        "    output=[];\n",
        "    for i in range(0,N):\n",
        "        ip=input().split();\n",
        "        if ip[0]==\"print\":\n",
        "            print(output)\n",
        "        elif ip[0] ==\"insert\":\n",
        "            output.insert(int(ip[1]),int(ip[2]))\n",
        "        elif ip[0]==\"remove\":\n",
        "            output.remove(int(ip[1]))\n",
        "        elif ip[0]==\"pop\":\n",
        "            output.pop();\n",
        "        elif ip[0]==\"append\":\n",
        "            output.append(int(ip[1]))\n",
        "        elif ip[0]==\"sort\":\n",
        "            output.sort();\n",
        "        else:\n",
        "            output.reverse();\n"
      ],
      "metadata": {
        "id": "zDAQ9ihyWk3c"
      },
      "execution_count": null,
      "outputs": []
    },
    {
      "cell_type": "markdown",
      "source": [
        "Input()\n",
        "\n"
      ],
      "metadata": {
        "id": "FnzcBj1-WtQN"
      }
    },
    {
      "cell_type": "code",
      "source": [
        "a = input().split()\n",
        "x=int(a[0])\n",
        "print(eval(input()) == int(a[1]))"
      ],
      "metadata": {
        "id": "r94_B_kkW60G"
      },
      "execution_count": null,
      "outputs": []
    },
    {
      "cell_type": "markdown",
      "source": [
        "Python Evaluation"
      ],
      "metadata": {
        "id": "B-pp0wTsXHVB"
      }
    },
    {
      "cell_type": "code",
      "source": [
        "# Enter your code here. Read input from STDIN. Print output to STDOUT     \n",
        "eval(input())\n"
      ],
      "metadata": {
        "id": "-AK1awbSXKSj"
      },
      "execution_count": null,
      "outputs": []
    }
  ]
}